{
 "cells": [
  {
   "cell_type": "markdown",
   "metadata": {},
   "source": [
    "# Import Packages"
   ]
  },
  {
   "cell_type": "code",
   "execution_count": 33,
   "metadata": {
    "ExecuteTime": {
     "end_time": "2020-05-20T21:15:47.697592Z",
     "start_time": "2020-05-20T21:15:47.692606Z"
    },
    "pycharm": {
     "is_executing": false
    }
   },
   "outputs": [],
   "source": [
    "import numpy as np\n",
    "import pandas as pd \n",
    "from keras import utils, models, layers, preprocessing\n",
    "import matplotlib.pyplot as plt\n",
    "from sklearn.model_selection import train_test_split"
   ]
  },
  {
   "cell_type": "markdown",
   "metadata": {
    "pycharm": {
     "name": "#%% md\n"
    }
   },
   "source": [
    "# Generate Two Time Series of Variable Length"
   ]
  },
  {
   "cell_type": "code",
   "execution_count": 2,
   "metadata": {
    "ExecuteTime": {
     "end_time": "2020-05-20T20:57:31.728018Z",
     "start_time": "2020-05-20T20:57:31.724060Z"
    }
   },
   "outputs": [],
   "source": [
    "n_series_per_class = 1000"
   ]
  },
  {
   "cell_type": "code",
   "execution_count": 3,
   "metadata": {
    "ExecuteTime": {
     "end_time": "2020-05-20T20:57:31.752992Z",
     "start_time": "2020-05-20T20:57:31.729014Z"
    }
   },
   "outputs": [],
   "source": [
    "# generate list of random walks from absulute normal distribution\n",
    "ts1 = []\n",
    "l1 = np.repeat(0,n_series_per_class)\n",
    "\n",
    "for i in range(n_series_per_class):\n",
    "    ts1.append(np.cumsum(abs(np.random.normal(size=np.random.randint(low=100, high=250)))))\n"
   ]
  },
  {
   "cell_type": "code",
   "execution_count": 4,
   "metadata": {
    "ExecuteTime": {
     "end_time": "2020-05-20T20:57:31.776943Z",
     "start_time": "2020-05-20T20:57:31.754003Z"
    },
    "pycharm": {
     "name": "#%%\n"
    }
   },
   "outputs": [],
   "source": [
    "# generate list of random walks from poisson distribution\n",
    "ts2 = []\n",
    "l2 = np.repeat(1,n_series_per_class)\n",
    "\n",
    "for i in range(n_series_per_class):\n",
    "    ts2.append(np.cumsum(np.random.poisson(size=np.random.randint(low=100, high=250))))\n",
    "\n"
   ]
  },
  {
   "cell_type": "code",
   "execution_count": 5,
   "metadata": {
    "ExecuteTime": {
     "end_time": "2020-05-20T20:57:31.781882Z",
     "start_time": "2020-05-20T20:57:31.777919Z"
    }
   },
   "outputs": [],
   "source": [
    "X = np.append(ts1,ts2)\n",
    "Y = np.append(l1,l2)"
   ]
  },
  {
   "cell_type": "code",
   "execution_count": 6,
   "metadata": {
    "ExecuteTime": {
     "end_time": "2020-05-20T20:57:31.785866Z",
     "start_time": "2020-05-20T20:57:31.782911Z"
    }
   },
   "outputs": [],
   "source": [
    "# delete variables\n",
    "del ts1, l1, ts2, l2"
   ]
  },
  {
   "cell_type": "markdown",
   "metadata": {
    "pycharm": {
     "name": "#%% md\n"
    }
   },
   "source": [
    "# Prepare Data"
   ]
  },
  {
   "cell_type": "code",
   "execution_count": 7,
   "metadata": {
    "ExecuteTime": {
     "end_time": "2020-05-20T20:57:31.799876Z",
     "start_time": "2020-05-20T20:57:31.786860Z"
    },
    "pycharm": {
     "name": "#%%\n"
    }
   },
   "outputs": [],
   "source": [
    "# Pads time series to the same length\n",
    "X = preprocessing.sequence.pad_sequences(X, value=-100)"
   ]
  },
  {
   "cell_type": "code",
   "execution_count": 8,
   "metadata": {
    "ExecuteTime": {
     "end_time": "2020-05-20T20:57:31.812826Z",
     "start_time": "2020-05-20T20:57:31.804817Z"
    }
   },
   "outputs": [],
   "source": [
    "# train-test-split\n",
    "x_train, x_test, y_train, y_test = train_test_split(\n",
    "     X, Y, test_size=0.2, random_state=42)\n"
   ]
  },
  {
   "cell_type": "code",
   "execution_count": 9,
   "metadata": {
    "ExecuteTime": {
     "end_time": "2020-05-20T20:57:31.820770Z",
     "start_time": "2020-05-20T20:57:31.814820Z"
    }
   },
   "outputs": [],
   "source": [
    "# reshape arrays\n",
    "x_train = np.reshape(x_train,(x_train.shape[0],x_train.shape[1],1))\n",
    "x_test = np.reshape(x_test,(x_test.shape[0],x_test.shape[1],1))\n",
    "\n",
    "# transform numerical to categorical values\n",
    "y_train = utils.to_categorical(y_train, 2) \n",
    "y_test = utils.to_categorical(y_test, 2) "
   ]
  },
  {
   "cell_type": "code",
   "execution_count": 10,
   "metadata": {
    "ExecuteTime": {
     "end_time": "2020-05-20T20:57:31.825776Z",
     "start_time": "2020-05-20T20:57:31.821791Z"
    }
   },
   "outputs": [],
   "source": [
    "del X, Y"
   ]
  },
  {
   "cell_type": "markdown",
   "metadata": {
    "pycharm": {
     "name": "#%% md\n"
    }
   },
   "source": [
    "# LSTM Model"
   ]
  },
  {
   "cell_type": "code",
   "execution_count": 28,
   "metadata": {
    "ExecuteTime": {
     "end_time": "2020-05-20T21:12:01.553860Z",
     "start_time": "2020-05-20T21:12:01.360376Z"
    }
   },
   "outputs": [
    {
     "name": "stdout",
     "output_type": "stream",
     "text": [
      "Model: \"sequential_8\"\n",
      "_________________________________________________________________\n",
      "Layer (type)                 Output Shape              Param #   \n",
      "=================================================================\n",
      "masking_8 (Masking)          (None, 249, 1)            0         \n",
      "_________________________________________________________________\n",
      "lstm_10 (LSTM)               (None, 32)                4352      \n",
      "_________________________________________________________________\n",
      "dense_6 (Dense)              (None, 2)                 66        \n",
      "=================================================================\n",
      "Total params: 4,418\n",
      "Trainable params: 4,418\n",
      "Non-trainable params: 0\n",
      "_________________________________________________________________\n"
     ]
    }
   ],
   "source": [
    "model = models.Sequential()\n",
    "# Masking layer to ignore padding values\n",
    "model.add(layers.Masking(mask_value=-100,input_shape=(x_train.shape[1],1)))\n",
    "model.add(layers.LSTM(32))\n",
    "model.add(layers.Dense(2, activation='softmax'))\n",
    "\n",
    "model.compile(loss='binary_crossentropy', optimizer='adam', metrics=['accuracy'])\n",
    "model.summary()"
   ]
  },
  {
   "cell_type": "code",
   "execution_count": 29,
   "metadata": {
    "ExecuteTime": {
     "end_time": "2020-05-20T21:14:35.639629Z",
     "start_time": "2020-05-20T21:12:04.704928Z"
    },
    "pycharm": {
     "name": "#%%\n"
    }
   },
   "outputs": [
    {
     "name": "stdout",
     "output_type": "stream",
     "text": [
      "Train on 1280 samples, validate on 320 samples\n",
      "Epoch 1/50\n",
      "1280/1280 [==============================] - 3s 3ms/step - loss: 0.6723 - accuracy: 0.6484 - val_loss: 0.6624 - val_accuracy: 0.6875\n",
      "Epoch 2/50\n",
      "1280/1280 [==============================] - 3s 2ms/step - loss: 0.6411 - accuracy: 0.6430 - val_loss: 0.6391 - val_accuracy: 0.5938\n",
      "Epoch 3/50\n",
      "1280/1280 [==============================] - 3s 2ms/step - loss: 0.6251 - accuracy: 0.6578 - val_loss: 0.6120 - val_accuracy: 0.7125\n",
      "Epoch 4/50\n",
      "1280/1280 [==============================] - 3s 2ms/step - loss: 0.5921 - accuracy: 0.7031 - val_loss: 0.6044 - val_accuracy: 0.7250\n",
      "Epoch 5/50\n",
      "1280/1280 [==============================] - 3s 2ms/step - loss: 0.5703 - accuracy: 0.7312 - val_loss: 0.5345 - val_accuracy: 0.7750\n",
      "Epoch 6/50\n",
      "1280/1280 [==============================] - 3s 2ms/step - loss: 0.4782 - accuracy: 0.8125 - val_loss: 0.4135 - val_accuracy: 0.8469\n",
      "Epoch 7/50\n",
      "1280/1280 [==============================] - 3s 2ms/step - loss: 0.3880 - accuracy: 0.8516 - val_loss: 0.3779 - val_accuracy: 0.8375\n",
      "Epoch 8/50\n",
      "1280/1280 [==============================] - 3s 2ms/step - loss: 0.3505 - accuracy: 0.8641 - val_loss: 0.3210 - val_accuracy: 0.8938\n",
      "Epoch 9/50\n",
      "1280/1280 [==============================] - 3s 2ms/step - loss: 0.3249 - accuracy: 0.8719 - val_loss: 0.2888 - val_accuracy: 0.9094\n",
      "Epoch 10/50\n",
      "1280/1280 [==============================] - 3s 2ms/step - loss: 0.3456 - accuracy: 0.8617 - val_loss: 0.3133 - val_accuracy: 0.8938\n",
      "Epoch 11/50\n",
      "1280/1280 [==============================] - 3s 2ms/step - loss: 0.3074 - accuracy: 0.8813 - val_loss: 0.2656 - val_accuracy: 0.9094\n",
      "Epoch 12/50\n",
      "1280/1280 [==============================] - 3s 2ms/step - loss: 0.3098 - accuracy: 0.8734 - val_loss: 0.3248 - val_accuracy: 0.8719\n",
      "Epoch 13/50\n",
      "1280/1280 [==============================] - 3s 2ms/step - loss: 0.2826 - accuracy: 0.8922 - val_loss: 0.2322 - val_accuracy: 0.9250\n",
      "Epoch 14/50\n",
      "1280/1280 [==============================] - 3s 2ms/step - loss: 0.2592 - accuracy: 0.8992 - val_loss: 0.2186 - val_accuracy: 0.9281\n",
      "Epoch 15/50\n",
      "1280/1280 [==============================] - 3s 2ms/step - loss: 0.2634 - accuracy: 0.8914 - val_loss: 0.2171 - val_accuracy: 0.9250\n",
      "Epoch 16/50\n",
      "1280/1280 [==============================] - 3s 2ms/step - loss: 0.2569 - accuracy: 0.9039 - val_loss: 0.2085 - val_accuracy: 0.9281\n",
      "Epoch 17/50\n",
      "1280/1280 [==============================] - 3s 2ms/step - loss: 0.2619 - accuracy: 0.8969 - val_loss: 0.2661 - val_accuracy: 0.8969\n",
      "Epoch 18/50\n",
      "1280/1280 [==============================] - 3s 2ms/step - loss: 0.3041 - accuracy: 0.8680 - val_loss: 0.2158 - val_accuracy: 0.9250\n",
      "Epoch 19/50\n",
      "1280/1280 [==============================] - 3s 3ms/step - loss: 0.2554 - accuracy: 0.8961 - val_loss: 0.2353 - val_accuracy: 0.9281\n",
      "Epoch 20/50\n",
      "1280/1280 [==============================] - 3s 2ms/step - loss: 0.2971 - accuracy: 0.8758 - val_loss: 0.2106 - val_accuracy: 0.9281\n",
      "Epoch 21/50\n",
      "1280/1280 [==============================] - 3s 2ms/step - loss: 0.2486 - accuracy: 0.8992 - val_loss: 0.2004 - val_accuracy: 0.9344\n",
      "Epoch 22/50\n",
      "1280/1280 [==============================] - 3s 2ms/step - loss: 0.2249 - accuracy: 0.9125 - val_loss: 0.1928 - val_accuracy: 0.9344\n",
      "Epoch 23/50\n",
      "1280/1280 [==============================] - 3s 2ms/step - loss: 0.2960 - accuracy: 0.8734 - val_loss: 0.2367 - val_accuracy: 0.9219\n",
      "Epoch 24/50\n",
      "1280/1280 [==============================] - 3s 2ms/step - loss: 0.2677 - accuracy: 0.8930 - val_loss: 0.4518 - val_accuracy: 0.8031\n",
      "Epoch 25/50\n",
      "1280/1280 [==============================] - 3s 2ms/step - loss: 0.2307 - accuracy: 0.9133 - val_loss: 0.1858 - val_accuracy: 0.9312\n",
      "Epoch 26/50\n",
      "1280/1280 [==============================] - 3s 2ms/step - loss: 0.2465 - accuracy: 0.9109 - val_loss: 0.2375 - val_accuracy: 0.9000\n",
      "Epoch 27/50\n",
      "1280/1280 [==============================] - 3s 2ms/step - loss: 0.2228 - accuracy: 0.9156 - val_loss: 0.2318 - val_accuracy: 0.9094\n",
      "Epoch 28/50\n",
      "1280/1280 [==============================] - 3s 2ms/step - loss: 0.2282 - accuracy: 0.9086 - val_loss: 0.3058 - val_accuracy: 0.8813\n",
      "Epoch 29/50\n",
      "1280/1280 [==============================] - 3s 2ms/step - loss: 0.2126 - accuracy: 0.9266 - val_loss: 0.1766 - val_accuracy: 0.9312\n",
      "Epoch 30/50\n",
      "1280/1280 [==============================] - 3s 2ms/step - loss: 0.2032 - accuracy: 0.9273 - val_loss: 0.1869 - val_accuracy: 0.9281\n",
      "Epoch 31/50\n",
      "1280/1280 [==============================] - 3s 2ms/step - loss: 0.2159 - accuracy: 0.9062 - val_loss: 0.1887 - val_accuracy: 0.9344\n",
      "Epoch 32/50\n",
      "1280/1280 [==============================] - 3s 2ms/step - loss: 0.2352 - accuracy: 0.9117 - val_loss: 0.2097 - val_accuracy: 0.9281\n",
      "Epoch 33/50\n",
      "1280/1280 [==============================] - 3s 2ms/step - loss: 0.2254 - accuracy: 0.9172 - val_loss: 0.1854 - val_accuracy: 0.9375\n",
      "Epoch 34/50\n",
      "1280/1280 [==============================] - 3s 2ms/step - loss: 0.2184 - accuracy: 0.9180 - val_loss: 0.1982 - val_accuracy: 0.9250\n",
      "Epoch 35/50\n",
      "1280/1280 [==============================] - 3s 2ms/step - loss: 0.2206 - accuracy: 0.9164 - val_loss: 0.2076 - val_accuracy: 0.9062\n",
      "Epoch 36/50\n",
      "1280/1280 [==============================] - 3s 2ms/step - loss: 0.2175 - accuracy: 0.9211 - val_loss: 0.1729 - val_accuracy: 0.9344\n",
      "Epoch 37/50\n",
      "1280/1280 [==============================] - 3s 2ms/step - loss: 0.2037 - accuracy: 0.9234 - val_loss: 0.1765 - val_accuracy: 0.9406\n",
      "Epoch 38/50\n",
      "1280/1280 [==============================] - 3s 2ms/step - loss: 0.2026 - accuracy: 0.9266 - val_loss: 0.1642 - val_accuracy: 0.9375\n",
      "Epoch 39/50\n",
      "1280/1280 [==============================] - 3s 2ms/step - loss: 0.2097 - accuracy: 0.9258 - val_loss: 0.2064 - val_accuracy: 0.9250\n",
      "Epoch 40/50\n",
      "1280/1280 [==============================] - 3s 2ms/step - loss: 0.2007 - accuracy: 0.9234 - val_loss: 0.2490 - val_accuracy: 0.8813\n",
      "Epoch 41/50\n",
      "1280/1280 [==============================] - 3s 2ms/step - loss: 0.2171 - accuracy: 0.9227 - val_loss: 0.2267 - val_accuracy: 0.9187\n",
      "Epoch 42/50\n",
      "1280/1280 [==============================] - 3s 2ms/step - loss: 0.2108 - accuracy: 0.9164 - val_loss: 0.1854 - val_accuracy: 0.9312\n",
      "Epoch 43/50\n",
      "1280/1280 [==============================] - 3s 2ms/step - loss: 0.2020 - accuracy: 0.9250 - val_loss: 0.1786 - val_accuracy: 0.9344\n",
      "Epoch 44/50\n",
      "1280/1280 [==============================] - 3s 2ms/step - loss: 0.1892 - accuracy: 0.9328 - val_loss: 0.2428 - val_accuracy: 0.8906\n",
      "Epoch 45/50\n",
      "1280/1280 [==============================] - 3s 2ms/step - loss: 0.2039 - accuracy: 0.9219 - val_loss: 0.2330 - val_accuracy: 0.9125\n",
      "Epoch 46/50\n",
      "1280/1280 [==============================] - 3s 2ms/step - loss: 0.2393 - accuracy: 0.9023 - val_loss: 0.2004 - val_accuracy: 0.9219\n",
      "Epoch 47/50\n",
      "1280/1280 [==============================] - 3s 2ms/step - loss: 0.1900 - accuracy: 0.9227 - val_loss: 0.1778 - val_accuracy: 0.9438\n",
      "Epoch 48/50\n",
      "1280/1280 [==============================] - 3s 2ms/step - loss: 0.2096 - accuracy: 0.9156 - val_loss: 0.2525 - val_accuracy: 0.8969\n",
      "Epoch 49/50\n",
      "1280/1280 [==============================] - 3s 2ms/step - loss: 0.2311 - accuracy: 0.9086 - val_loss: 0.2178 - val_accuracy: 0.9219\n",
      "Epoch 50/50\n",
      "1280/1280 [==============================] - 3s 2ms/step - loss: 0.2171 - accuracy: 0.9180 - val_loss: 0.1835 - val_accuracy: 0.9312\n"
     ]
    }
   ],
   "source": [
    "history = model.fit(x_train,y_train, epochs=50, batch_size=32, validation_split=0.2)"
   ]
  },
  {
   "cell_type": "code",
   "execution_count": 30,
   "metadata": {
    "ExecuteTime": {
     "end_time": "2020-05-20T21:14:35.899929Z",
     "start_time": "2020-05-20T21:14:35.640621Z"
    },
    "pycharm": {
     "name": "#%%\n"
    }
   },
   "outputs": [
    {
     "name": "stdout",
     "output_type": "stream",
     "text": [
      "400/400 [==============================] - 0s 633us/step\n"
     ]
    },
    {
     "data": {
      "text/plain": [
       "[0.19129362672567368, 0.9325000047683716]"
      ]
     },
     "execution_count": 30,
     "metadata": {},
     "output_type": "execute_result"
    }
   ],
   "source": [
    "model.evaluate(x_test,y_test)"
   ]
  }
 ],
 "metadata": {
  "kernelspec": {
   "display_name": "Python 3",
   "language": "python",
   "name": "python3"
  },
  "language_info": {
   "codemirror_mode": {
    "name": "ipython",
    "version": 3
   },
   "file_extension": ".py",
   "mimetype": "text/x-python",
   "name": "python",
   "nbconvert_exporter": "python",
   "pygments_lexer": "ipython3",
   "version": "3.6.10"
  },
  "pycharm": {
   "stem_cell": {
    "cell_type": "raw",
    "source": [],
    "metadata": {
     "collapsed": false
    }
   }
  }
 },
 "nbformat": 4,
 "nbformat_minor": 2
}