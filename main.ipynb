{
 "cells": [
  {
   "cell_type": "markdown",
   "metadata": {},
   "source": [
    "# Import Packages"
   ]
  },
  {
   "cell_type": "code",
   "execution_count": 16,
   "metadata": {
    "ExecuteTime": {
     "end_time": "2020-05-20T22:03:31.645675Z",
     "start_time": "2020-05-20T22:03:31.641684Z"
    },
    "pycharm": {
     "is_executing": false
    }
   },
   "outputs": [],
   "source": [
    "import numpy as np\n",
    "import pandas as pd \n",
    "from keras import utils, models, layers, preprocessing\n",
    "import matplotlib.pyplot as plt\n",
    "from sklearn.model_selection import train_test_split"
   ]
  },
  {
   "cell_type": "markdown",
   "metadata": {
    "pycharm": {
     "name": "#%% md\n"
    }
   },
   "source": [
    "# Generate Two Time Series of Variable Length"
   ]
  },
  {
   "cell_type": "code",
   "execution_count": 2,
   "metadata": {
    "ExecuteTime": {
     "end_time": "2020-05-20T21:50:50.527124Z",
     "start_time": "2020-05-20T21:50:50.524131Z"
    }
   },
   "outputs": [],
   "source": [
    "n_series_per_class = 1000"
   ]
  },
  {
   "cell_type": "code",
   "execution_count": 3,
   "metadata": {
    "ExecuteTime": {
     "end_time": "2020-05-20T21:50:50.550098Z",
     "start_time": "2020-05-20T21:50:50.529126Z"
    }
   },
   "outputs": [],
   "source": [
    "# generate list of random walks from absulute normal distribution\n",
    "ts1 = []\n",
    "l1 = np.repeat(0,n_series_per_class)\n",
    "\n",
    "for i in range(n_series_per_class):\n",
    "    ts1.append(np.cumsum(abs(np.random.normal(size=np.random.randint(low=100, high=250)))))\n"
   ]
  },
  {
   "cell_type": "code",
   "execution_count": 4,
   "metadata": {
    "ExecuteTime": {
     "end_time": "2020-05-20T21:50:50.573058Z",
     "start_time": "2020-05-20T21:50:50.551060Z"
    },
    "pycharm": {
     "name": "#%%\n"
    }
   },
   "outputs": [],
   "source": [
    "# generate list of random walks from poisson distribution\n",
    "ts2 = []\n",
    "l2 = np.repeat(1,n_series_per_class)\n",
    "\n",
    "for i in range(n_series_per_class):\n",
    "    ts2.append(np.cumsum(np.random.poisson(size=np.random.randint(low=100, high=250))))\n",
    "\n"
   ]
  },
  {
   "cell_type": "code",
   "execution_count": 5,
   "metadata": {
    "ExecuteTime": {
     "end_time": "2020-05-20T21:50:50.577989Z",
     "start_time": "2020-05-20T21:50:50.573997Z"
    }
   },
   "outputs": [],
   "source": [
    "X = np.append(ts1,ts2)\n",
    "Y = np.append(l1,l2)"
   ]
  },
  {
   "cell_type": "code",
   "execution_count": 6,
   "metadata": {
    "ExecuteTime": {
     "end_time": "2020-05-20T21:50:50.582975Z",
     "start_time": "2020-05-20T21:50:50.579983Z"
    }
   },
   "outputs": [],
   "source": [
    "# delete variables\n",
    "del ts1, l1, ts2, l2"
   ]
  },
  {
   "cell_type": "markdown",
   "metadata": {
    "pycharm": {
     "name": "#%% md\n"
    }
   },
   "source": [
    "# Prepare Data"
   ]
  },
  {
   "cell_type": "code",
   "execution_count": 7,
   "metadata": {
    "ExecuteTime": {
     "end_time": "2020-05-20T21:50:50.594030Z",
     "start_time": "2020-05-20T21:50:50.583981Z"
    },
    "pycharm": {
     "name": "#%%\n"
    }
   },
   "outputs": [],
   "source": [
    "# Pads time series to the same length\n",
    "X = preprocessing.sequence.pad_sequences(X, value=-100)"
   ]
  },
  {
   "cell_type": "code",
   "execution_count": 8,
   "metadata": {
    "ExecuteTime": {
     "end_time": "2020-05-20T21:50:50.602955Z",
     "start_time": "2020-05-20T21:50:50.594942Z"
    }
   },
   "outputs": [],
   "source": [
    "# train-test-split\n",
    "x_train, x_test, y_train, y_test = train_test_split(\n",
    "     X, Y, test_size=0.2, random_state=42)\n"
   ]
  },
  {
   "cell_type": "code",
   "execution_count": 9,
   "metadata": {
    "ExecuteTime": {
     "end_time": "2020-05-20T21:50:50.608904Z",
     "start_time": "2020-05-20T21:50:50.603918Z"
    }
   },
   "outputs": [],
   "source": [
    "# reshape arrays\n",
    "x_train = np.reshape(x_train,(x_train.shape[0],x_train.shape[1],1))\n",
    "x_test = np.reshape(x_test,(x_test.shape[0],x_test.shape[1],1))\n",
    "\n",
    "# transform numerical to categorical values\n",
    "y_train = utils.to_categorical(y_train, 2) \n",
    "y_test = utils.to_categorical(y_test, 2) "
   ]
  },
  {
   "cell_type": "code",
   "execution_count": 10,
   "metadata": {
    "ExecuteTime": {
     "end_time": "2020-05-20T21:50:50.612894Z",
     "start_time": "2020-05-20T21:50:50.609902Z"
    }
   },
   "outputs": [],
   "source": [
    "del X, Y"
   ]
  },
  {
   "cell_type": "markdown",
   "metadata": {
    "pycharm": {
     "name": "#%% md\n"
    }
   },
   "source": [
    "# LSTM Model"
   ]
  },
  {
   "cell_type": "code",
   "execution_count": 11,
   "metadata": {
    "ExecuteTime": {
     "end_time": "2020-05-20T21:50:50.857242Z",
     "start_time": "2020-05-20T21:50:50.613891Z"
    }
   },
   "outputs": [
    {
     "name": "stdout",
     "output_type": "stream",
     "text": [
      "WARNING:tensorflow:From c:\\users\\domin\\anaconda3\\envs\\classify-timeseries\\lib\\site-packages\\tensorflow\\python\\ops\\resource_variable_ops.py:435: colocate_with (from tensorflow.python.framework.ops) is deprecated and will be removed in a future version.\n",
      "Instructions for updating:\n",
      "Colocations handled automatically by placer.\n",
      "Model: \"sequential_1\"\n",
      "_________________________________________________________________\n",
      "Layer (type)                 Output Shape              Param #   \n",
      "=================================================================\n",
      "masking_1 (Masking)          (None, 249, 1)            0         \n",
      "_________________________________________________________________\n",
      "lstm_1 (LSTM)                (None, 32)                4352      \n",
      "_________________________________________________________________\n",
      "dense_1 (Dense)              (None, 2)                 66        \n",
      "=================================================================\n",
      "Total params: 4,418\n",
      "Trainable params: 4,418\n",
      "Non-trainable params: 0\n",
      "_________________________________________________________________\n"
     ]
    }
   ],
   "source": [
    "model = models.Sequential()\n",
    "# Masking layer to ignore padding values\n",
    "model.add(layers.Masking(mask_value=-100,input_shape=(x_train.shape[1],1)))\n",
    "model.add(layers.LSTM(32))\n",
    "model.add(layers.Dense(2, activation='softmax'))\n",
    "\n",
    "model.compile(loss='binary_crossentropy', optimizer='adam', metrics=['accuracy'])\n",
    "model.summary()"
   ]
  },
  {
   "cell_type": "code",
   "execution_count": 12,
   "metadata": {
    "ExecuteTime": {
     "end_time": "2020-05-20T21:53:18.285300Z",
     "start_time": "2020-05-20T21:50:50.859237Z"
    },
    "pycharm": {
     "name": "#%%\n"
    }
   },
   "outputs": [
    {
     "name": "stdout",
     "output_type": "stream",
     "text": [
      "WARNING:tensorflow:From c:\\users\\domin\\anaconda3\\envs\\classify-timeseries\\lib\\site-packages\\tensorflow\\python\\ops\\math_ops.py:3066: to_int32 (from tensorflow.python.ops.math_ops) is deprecated and will be removed in a future version.\n",
      "Instructions for updating:\n",
      "Use tf.cast instead.\n",
      "Train on 1280 samples, validate on 320 samples\n",
      "Epoch 1/50\n",
      "1280/1280 [==============================] - 3s 3ms/step - loss: 0.6960 - accuracy: 0.5164 - val_loss: 0.6870 - val_accuracy: 0.5969\n",
      "Epoch 2/50\n",
      "1280/1280 [==============================] - 3s 2ms/step - loss: 0.6779 - accuracy: 0.6211 - val_loss: 0.6765 - val_accuracy: 0.6156\n",
      "Epoch 3/50\n",
      "1280/1280 [==============================] - 3s 2ms/step - loss: 0.6665 - accuracy: 0.6125 - val_loss: 0.6713 - val_accuracy: 0.5906\n",
      "Epoch 4/50\n",
      "1280/1280 [==============================] - 3s 2ms/step - loss: 0.6655 - accuracy: 0.6203 - val_loss: 0.6635 - val_accuracy: 0.5938\n",
      "Epoch 5/50\n",
      "1280/1280 [==============================] - 3s 2ms/step - loss: 0.6541 - accuracy: 0.6250 - val_loss: 0.6601 - val_accuracy: 0.6187\n",
      "Epoch 6/50\n",
      "1280/1280 [==============================] - 3s 2ms/step - loss: 0.6407 - accuracy: 0.6266 - val_loss: 0.6516 - val_accuracy: 0.6250\n",
      "Epoch 7/50\n",
      "1280/1280 [==============================] - 3s 2ms/step - loss: 0.6229 - accuracy: 0.6547 - val_loss: 0.6028 - val_accuracy: 0.6750\n",
      "Epoch 8/50\n",
      "1280/1280 [==============================] - 3s 2ms/step - loss: 0.5584 - accuracy: 0.7453 - val_loss: 0.5336 - val_accuracy: 0.7656\n",
      "Epoch 9/50\n",
      "1280/1280 [==============================] - 3s 2ms/step - loss: 0.5256 - accuracy: 0.7523 - val_loss: 0.6018 - val_accuracy: 0.6687\n",
      "Epoch 10/50\n",
      "1280/1280 [==============================] - 3s 2ms/step - loss: 0.5275 - accuracy: 0.7437 - val_loss: 0.4960 - val_accuracy: 0.7812\n",
      "Epoch 11/50\n",
      "1280/1280 [==============================] - 3s 2ms/step - loss: 0.4835 - accuracy: 0.8016 - val_loss: 0.4756 - val_accuracy: 0.7750\n",
      "Epoch 12/50\n",
      "1280/1280 [==============================] - 3s 2ms/step - loss: 0.4582 - accuracy: 0.7945 - val_loss: 0.4503 - val_accuracy: 0.8250\n",
      "Epoch 13/50\n",
      "1280/1280 [==============================] - 3s 2ms/step - loss: 0.4344 - accuracy: 0.8172 - val_loss: 0.4071 - val_accuracy: 0.8344\n",
      "Epoch 14/50\n",
      "1280/1280 [==============================] - 3s 2ms/step - loss: 0.4179 - accuracy: 0.8180 - val_loss: 0.4293 - val_accuracy: 0.8094\n",
      "Epoch 15/50\n",
      "1280/1280 [==============================] - 3s 2ms/step - loss: 0.4173 - accuracy: 0.8266 - val_loss: 0.3868 - val_accuracy: 0.8344\n",
      "Epoch 16/50\n",
      "1280/1280 [==============================] - 3s 2ms/step - loss: 0.3749 - accuracy: 0.8508 - val_loss: 0.3340 - val_accuracy: 0.8875\n",
      "Epoch 17/50\n",
      "1280/1280 [==============================] - 3s 2ms/step - loss: 0.3766 - accuracy: 0.8375 - val_loss: 0.3995 - val_accuracy: 0.8344\n",
      "Epoch 18/50\n",
      "1280/1280 [==============================] - 3s 2ms/step - loss: 0.3537 - accuracy: 0.8578 - val_loss: 0.3132 - val_accuracy: 0.8938\n",
      "Epoch 19/50\n",
      "1280/1280 [==============================] - 3s 2ms/step - loss: 0.3243 - accuracy: 0.8711 - val_loss: 0.3628 - val_accuracy: 0.8531\n",
      "Epoch 20/50\n",
      "1280/1280 [==============================] - 3s 2ms/step - loss: 0.3744 - accuracy: 0.8375 - val_loss: 0.3364 - val_accuracy: 0.8438\n",
      "Epoch 21/50\n",
      "1280/1280 [==============================] - 3s 2ms/step - loss: 0.3343 - accuracy: 0.8680 - val_loss: 0.3315 - val_accuracy: 0.8562\n",
      "Epoch 22/50\n",
      "1280/1280 [==============================] - 3s 2ms/step - loss: 0.3080 - accuracy: 0.8789 - val_loss: 0.3365 - val_accuracy: 0.8625\n",
      "Epoch 23/50\n",
      "1280/1280 [==============================] - 3s 2ms/step - loss: 0.2896 - accuracy: 0.8875 - val_loss: 0.3167 - val_accuracy: 0.8594\n",
      "Epoch 24/50\n",
      "1280/1280 [==============================] - 3s 2ms/step - loss: 0.3026 - accuracy: 0.8820 - val_loss: 0.2798 - val_accuracy: 0.8906\n",
      "Epoch 25/50\n",
      "1280/1280 [==============================] - 3s 2ms/step - loss: 0.2792 - accuracy: 0.8984 - val_loss: 0.2719 - val_accuracy: 0.9187\n",
      "Epoch 26/50\n",
      "1280/1280 [==============================] - 3s 2ms/step - loss: 0.2748 - accuracy: 0.8984 - val_loss: 0.2451 - val_accuracy: 0.9000\n",
      "Epoch 27/50\n",
      "1280/1280 [==============================] - 3s 2ms/step - loss: 0.2419 - accuracy: 0.9086 - val_loss: 0.2457 - val_accuracy: 0.9187\n",
      "Epoch 28/50\n",
      "1280/1280 [==============================] - 3s 2ms/step - loss: 0.3297 - accuracy: 0.8609 - val_loss: 0.2471 - val_accuracy: 0.9094\n",
      "Epoch 29/50\n",
      "1280/1280 [==============================] - 3s 2ms/step - loss: 0.2547 - accuracy: 0.9070 - val_loss: 0.2823 - val_accuracy: 0.8844\n",
      "Epoch 30/50\n",
      "1280/1280 [==============================] - 3s 2ms/step - loss: 0.2300 - accuracy: 0.9156 - val_loss: 0.2674 - val_accuracy: 0.9187\n",
      "Epoch 31/50\n",
      "1280/1280 [==============================] - 3s 2ms/step - loss: 0.2297 - accuracy: 0.9164 - val_loss: 0.2471 - val_accuracy: 0.9312\n",
      "Epoch 32/50\n",
      "1280/1280 [==============================] - 3s 2ms/step - loss: 0.2393 - accuracy: 0.9117 - val_loss: 0.2260 - val_accuracy: 0.9219\n",
      "Epoch 33/50\n",
      "1280/1280 [==============================] - 3s 2ms/step - loss: 0.2076 - accuracy: 0.9281 - val_loss: 0.2304 - val_accuracy: 0.9312\n",
      "Epoch 34/50\n",
      "1280/1280 [==============================] - 3s 2ms/step - loss: 0.2278 - accuracy: 0.9102 - val_loss: 0.2176 - val_accuracy: 0.9219\n",
      "Epoch 35/50\n",
      "1280/1280 [==============================] - 3s 2ms/step - loss: 0.2502 - accuracy: 0.9039 - val_loss: 0.2349 - val_accuracy: 0.9094\n",
      "Epoch 36/50\n",
      "1280/1280 [==============================] - 3s 2ms/step - loss: 0.2077 - accuracy: 0.9148 - val_loss: 0.2153 - val_accuracy: 0.9250\n",
      "Epoch 37/50\n",
      "1280/1280 [==============================] - 3s 2ms/step - loss: 0.2447 - accuracy: 0.9023 - val_loss: 0.2939 - val_accuracy: 0.8687\n",
      "Epoch 38/50\n",
      "1280/1280 [==============================] - 3s 2ms/step - loss: 0.2294 - accuracy: 0.9094 - val_loss: 0.2427 - val_accuracy: 0.9031\n",
      "Epoch 39/50\n",
      "1280/1280 [==============================] - 3s 2ms/step - loss: 0.2400 - accuracy: 0.9039 - val_loss: 0.2195 - val_accuracy: 0.9219\n",
      "Epoch 40/50\n",
      "1280/1280 [==============================] - 3s 2ms/step - loss: 0.2370 - accuracy: 0.9078 - val_loss: 0.3227 - val_accuracy: 0.8625\n",
      "Epoch 41/50\n",
      "1280/1280 [==============================] - 3s 2ms/step - loss: 0.2034 - accuracy: 0.9266 - val_loss: 0.2198 - val_accuracy: 0.9312\n",
      "Epoch 42/50\n",
      "1280/1280 [==============================] - 3s 2ms/step - loss: 0.2004 - accuracy: 0.9320 - val_loss: 0.2262 - val_accuracy: 0.9156\n",
      "Epoch 43/50\n",
      "1280/1280 [==============================] - 3s 2ms/step - loss: 0.1873 - accuracy: 0.9336 - val_loss: 0.2282 - val_accuracy: 0.9281\n",
      "Epoch 44/50\n",
      "1280/1280 [==============================] - 3s 2ms/step - loss: 0.2301 - accuracy: 0.9039 - val_loss: 0.2209 - val_accuracy: 0.9187\n",
      "Epoch 45/50\n",
      "1280/1280 [==============================] - 3s 2ms/step - loss: 0.2050 - accuracy: 0.9203 - val_loss: 0.3856 - val_accuracy: 0.8031\n",
      "Epoch 46/50\n",
      "1280/1280 [==============================] - 3s 2ms/step - loss: 0.2084 - accuracy: 0.9156 - val_loss: 0.2635 - val_accuracy: 0.8906\n",
      "Epoch 47/50\n",
      "1280/1280 [==============================] - 3s 2ms/step - loss: 0.1947 - accuracy: 0.9203 - val_loss: 0.2559 - val_accuracy: 0.8906\n",
      "Epoch 48/50\n",
      "1280/1280 [==============================] - 3s 2ms/step - loss: 0.1860 - accuracy: 0.9367 - val_loss: 0.2128 - val_accuracy: 0.9375\n",
      "Epoch 49/50\n",
      "1280/1280 [==============================] - 3s 2ms/step - loss: 0.1884 - accuracy: 0.9281 - val_loss: 0.2739 - val_accuracy: 0.9062\n",
      "Epoch 50/50\n",
      "1280/1280 [==============================] - 3s 2ms/step - loss: 0.1991 - accuracy: 0.9258 - val_loss: 0.2341 - val_accuracy: 0.9281\n"
     ]
    }
   ],
   "source": [
    "history = model.fit(x_train,y_train, epochs=50, batch_size=32, validation_split=0.2)"
   ]
  },
  {
   "cell_type": "code",
   "execution_count": 13,
   "metadata": {
    "ExecuteTime": {
     "end_time": "2020-05-20T21:53:18.548597Z",
     "start_time": "2020-05-20T21:53:18.286298Z"
    },
    "pycharm": {
     "name": "#%%\n"
    }
   },
   "outputs": [
    {
     "name": "stdout",
     "output_type": "stream",
     "text": [
      "400/400 [==============================] - 0s 636us/step\n"
     ]
    },
    {
     "data": {
      "text/plain": [
       "[0.19621856451034547, 0.925000011920929]"
      ]
     },
     "execution_count": 13,
     "metadata": {},
     "output_type": "execute_result"
    }
   ],
   "source": [
    "model.evaluate(x_test,y_test)"
   ]
  },
  {
   "cell_type": "code",
   "execution_count": 14,
   "metadata": {
    "ExecuteTime": {
     "end_time": "2020-05-20T21:53:18.723180Z",
     "start_time": "2020-05-20T21:53:18.549594Z"
    }
   },
   "outputs": [
    {
     "data": {
      "image/png": "[encoded data removed]",
      "text/plain": [
       "<Figure size 432x288 with 1 Axes>"
      ]
     },
     "metadata": {
      "needs_background": "light"
     },
     "output_type": "display_data"
    }
   ],
   "source": [
    "# summarize history for accuracy\n",
    "plt.plot(history.history['accuracy'])\n",
    "plt.plot(history.history['val_accuracy'])\n",
    "plt.title('model accuracy')\n",
    "plt.ylabel('accuracy')\n",
    "plt.xlabel('epoch')\n",
    "plt.legend(['train', 'test'], loc='upper left')\n",
    "plt.show()\n"
   ]
  },
  {
   "cell_type": "code",
   "execution_count": 15,
   "metadata": {
    "ExecuteTime": {
     "end_time": "2020-05-20T21:53:18.829846Z",
     "start_time": "2020-05-20T21:53:18.724128Z"
    }
   },
   "outputs": [
    {
     "data": {
      "image/png": "[encoded data removed]",
      "text/plain": [
       "<Figure size 432x288 with 1 Axes>"
      ]
     },
     "metadata": {
      "needs_background": "light"
     },
     "output_type": "display_data"
    }
   ],
   "source": [
    "# summarize history for loss\n",
    "plt.plot(history.history['loss'])\n",
    "plt.plot(history.history['val_loss'])\n",
    "plt.title('model loss')\n",
    "plt.ylabel('loss')\n",
    "plt.xlabel('epoch')\n",
    "plt.legend(['train', 'test'], loc='upper left')\n",
    "plt.show()"
   ]
  }
 ],
 "metadata": {
  "kernelspec": {
   "display_name": "Python 3",
   "language": "python",
   "name": "python3"
  },
  "language_info": {
   "codemirror_mode": {
    "name": "ipython",
    "version": 3
   },
   "file_extension": ".py",
   "mimetype": "text/x-python",
   "name": "python",
   "nbconvert_exporter": "python",
   "pygments_lexer": "ipython3",
   "version": "3.6.10"
  },
  "pycharm": {
   "stem_cell": {
    "cell_type": "raw",
    "metadata": {
     "collapsed": false
    },
    "source": []
   }
  }
 },
 "nbformat": 4,
 "nbformat_minor": 2
}
